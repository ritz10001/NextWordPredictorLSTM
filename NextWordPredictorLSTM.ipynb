{
  "nbformat": 4,
  "nbformat_minor": 0,
  "metadata": {
    "colab": {
      "provenance": [],
      "authorship_tag": "ABX9TyM4Eonui5QMyI04WBc+oIiM",
      "include_colab_link": true
    },
    "kernelspec": {
      "name": "python3",
      "display_name": "Python 3"
    },
    "language_info": {
      "name": "python"
    }
  },
  "cells": [
    {
      "cell_type": "markdown",
      "metadata": {
        "id": "view-in-github",
        "colab_type": "text"
      },
      "source": [
        "<a href=\"https://colab.research.google.com/github/ritz10001/NextWordPredictorLSTM/blob/main/NextWordPredictorLSTM.ipynb\" target=\"_parent\"><img src=\"https://colab.research.google.com/assets/colab-badge.svg\" alt=\"Open In Colab\"/></a>"
      ]
    },
    {
      "cell_type": "code",
      "execution_count": null,
      "metadata": {
        "id": "_cZ6sKdt629M"
      },
      "outputs": [],
      "source": [
        "train_text = \"\"\"The quick brown fox jumps over the lazy dog.\n",
        "I love programming and solving complex problems.\n",
        "Artificial intelligence is transforming the world.\n",
        "It's a beautiful day to learn something new.\n",
        "Data science involves statistics, coding, and domain knowledge.\n",
        "Natural language processing is a fascinating field.\n",
        "Machine learning models improve with more data.\n",
        "Python is a versatile and popular programming language.\n",
        "Deep learning algorithms require a lot of computational power.\n",
        "The weather is sunny and warm today.\n",
        "She sells seashells by the seashore.\n",
        "Reading books expands your knowledge and imagination.\n",
        "Exercise is important for maintaining good health.\n",
        "He enjoys hiking in the mountains on weekends.\n",
        "Music can have a profound effect on your emotions.\n",
        "The cat sat on the mat and looked out the window.\n",
        "He built a robot that can navigate obstacles autonomously.\n",
        "Her favorite hobby is painting landscapes.\n",
        "Technology is advancing at a rapid pace.\n",
        "They traveled to many countries during their vacation.\"\"\""
      ]
    },
    {
      "cell_type": "code",
      "source": [
        "import tensorflow as tf\n",
        "from tensorflow.keras.preprocessing.text import Tokenizer"
      ],
      "metadata": {
        "id": "2MTFJgUo7Qsd"
      },
      "execution_count": null,
      "outputs": []
    },
    {
      "cell_type": "code",
      "source": [
        "tokenizer = Tokenizer()"
      ],
      "metadata": {
        "id": "YJUWpWE07fjX"
      },
      "execution_count": null,
      "outputs": []
    },
    {
      "cell_type": "code",
      "source": [
        "tokenizer.fit_on_texts([train_text])"
      ],
      "metadata": {
        "id": "ChdK5-0D7kS5"
      },
      "execution_count": null,
      "outputs": []
    },
    {
      "cell_type": "code",
      "source": [
        "tokenizer.word_index"
      ],
      "metadata": {
        "colab": {
          "base_uri": "https://localhost:8080/"
        },
        "id": "4e9WpAIW7nQl",
        "outputId": "44966fac-6f04-44ba-df7c-8824d288f908"
      },
      "execution_count": null,
      "outputs": [
        {
          "output_type": "execute_result",
          "data": {
            "text/plain": [
              "{'the': 1,\n",
              " 'is': 2,\n",
              " 'a': 3,\n",
              " 'and': 4,\n",
              " 'on': 5,\n",
              " 'programming': 6,\n",
              " 'to': 7,\n",
              " 'data': 8,\n",
              " 'knowledge': 9,\n",
              " 'language': 10,\n",
              " 'learning': 11,\n",
              " 'your': 12,\n",
              " 'he': 13,\n",
              " 'can': 14,\n",
              " 'quick': 15,\n",
              " 'brown': 16,\n",
              " 'fox': 17,\n",
              " 'jumps': 18,\n",
              " 'over': 19,\n",
              " 'lazy': 20,\n",
              " 'dog': 21,\n",
              " 'i': 22,\n",
              " 'love': 23,\n",
              " 'solving': 24,\n",
              " 'complex': 25,\n",
              " 'problems': 26,\n",
              " 'artificial': 27,\n",
              " 'intelligence': 28,\n",
              " 'transforming': 29,\n",
              " 'world': 30,\n",
              " \"it's\": 31,\n",
              " 'beautiful': 32,\n",
              " 'day': 33,\n",
              " 'learn': 34,\n",
              " 'something': 35,\n",
              " 'new': 36,\n",
              " 'science': 37,\n",
              " 'involves': 38,\n",
              " 'statistics': 39,\n",
              " 'coding': 40,\n",
              " 'domain': 41,\n",
              " 'natural': 42,\n",
              " 'processing': 43,\n",
              " 'fascinating': 44,\n",
              " 'field': 45,\n",
              " 'machine': 46,\n",
              " 'models': 47,\n",
              " 'improve': 48,\n",
              " 'with': 49,\n",
              " 'more': 50,\n",
              " 'python': 51,\n",
              " 'versatile': 52,\n",
              " 'popular': 53,\n",
              " 'deep': 54,\n",
              " 'algorithms': 55,\n",
              " 'require': 56,\n",
              " 'lot': 57,\n",
              " 'of': 58,\n",
              " 'computational': 59,\n",
              " 'power': 60,\n",
              " 'weather': 61,\n",
              " 'sunny': 62,\n",
              " 'warm': 63,\n",
              " 'today': 64,\n",
              " 'she': 65,\n",
              " 'sells': 66,\n",
              " 'seashells': 67,\n",
              " 'by': 68,\n",
              " 'seashore': 69,\n",
              " 'reading': 70,\n",
              " 'books': 71,\n",
              " 'expands': 72,\n",
              " 'imagination': 73,\n",
              " 'exercise': 74,\n",
              " 'important': 75,\n",
              " 'for': 76,\n",
              " 'maintaining': 77,\n",
              " 'good': 78,\n",
              " 'health': 79,\n",
              " 'enjoys': 80,\n",
              " 'hiking': 81,\n",
              " 'in': 82,\n",
              " 'mountains': 83,\n",
              " 'weekends': 84,\n",
              " 'music': 85,\n",
              " 'have': 86,\n",
              " 'profound': 87,\n",
              " 'effect': 88,\n",
              " 'emotions': 89,\n",
              " 'cat': 90,\n",
              " 'sat': 91,\n",
              " 'mat': 92,\n",
              " 'looked': 93,\n",
              " 'out': 94,\n",
              " 'window': 95,\n",
              " 'built': 96,\n",
              " 'robot': 97,\n",
              " 'that': 98,\n",
              " 'navigate': 99,\n",
              " 'obstacles': 100,\n",
              " 'autonomously': 101,\n",
              " 'her': 102,\n",
              " 'favorite': 103,\n",
              " 'hobby': 104,\n",
              " 'painting': 105,\n",
              " 'landscapes': 106,\n",
              " 'technology': 107,\n",
              " 'advancing': 108,\n",
              " 'at': 109,\n",
              " 'rapid': 110,\n",
              " 'pace': 111,\n",
              " 'they': 112,\n",
              " 'traveled': 113,\n",
              " 'many': 114,\n",
              " 'countries': 115,\n",
              " 'during': 116,\n",
              " 'their': 117,\n",
              " 'vacation': 118}"
            ]
          },
          "metadata": {},
          "execution_count": 13
        }
      ]
    },
    {
      "cell_type": "code",
      "source": [
        "input_sequences = []\n",
        "\n",
        "for sentence in train_text.split('\\n'):\n",
        "    tokenized_sentence = tokenizer.texts_to_sequences([sentence])[0]\n",
        "    for i in range(1, len(tokenized_sentence)):\n",
        "        input_sequences.append(tokenized_sentence[:i+1])\n"
      ],
      "metadata": {
        "id": "K695kqN-7z2W"
      },
      "execution_count": null,
      "outputs": []
    },
    {
      "cell_type": "code",
      "source": [
        "input_sequences"
      ],
      "metadata": {
        "colab": {
          "base_uri": "https://localhost:8080/"
        },
        "id": "J-bDuzDR-49B",
        "outputId": "b482441a-37b7-45cb-ed88-7b75426e83f9"
      },
      "execution_count": null,
      "outputs": [
        {
          "output_type": "execute_result",
          "data": {
            "text/plain": [
              "[[1, 15],\n",
              " [1, 15, 16],\n",
              " [1, 15, 16, 17],\n",
              " [1, 15, 16, 17, 18],\n",
              " [1, 15, 16, 17, 18, 19],\n",
              " [1, 15, 16, 17, 18, 19, 1],\n",
              " [1, 15, 16, 17, 18, 19, 1, 20],\n",
              " [1, 15, 16, 17, 18, 19, 1, 20, 21],\n",
              " [22, 23],\n",
              " [22, 23, 6],\n",
              " [22, 23, 6, 4],\n",
              " [22, 23, 6, 4, 24],\n",
              " [22, 23, 6, 4, 24, 25],\n",
              " [22, 23, 6, 4, 24, 25, 26],\n",
              " [27, 28],\n",
              " [27, 28, 2],\n",
              " [27, 28, 2, 29],\n",
              " [27, 28, 2, 29, 1],\n",
              " [27, 28, 2, 29, 1, 30],\n",
              " [31, 3],\n",
              " [31, 3, 32],\n",
              " [31, 3, 32, 33],\n",
              " [31, 3, 32, 33, 7],\n",
              " [31, 3, 32, 33, 7, 34],\n",
              " [31, 3, 32, 33, 7, 34, 35],\n",
              " [31, 3, 32, 33, 7, 34, 35, 36],\n",
              " [8, 37],\n",
              " [8, 37, 38],\n",
              " [8, 37, 38, 39],\n",
              " [8, 37, 38, 39, 40],\n",
              " [8, 37, 38, 39, 40, 4],\n",
              " [8, 37, 38, 39, 40, 4, 41],\n",
              " [8, 37, 38, 39, 40, 4, 41, 9],\n",
              " [42, 10],\n",
              " [42, 10, 43],\n",
              " [42, 10, 43, 2],\n",
              " [42, 10, 43, 2, 3],\n",
              " [42, 10, 43, 2, 3, 44],\n",
              " [42, 10, 43, 2, 3, 44, 45],\n",
              " [46, 11],\n",
              " [46, 11, 47],\n",
              " [46, 11, 47, 48],\n",
              " [46, 11, 47, 48, 49],\n",
              " [46, 11, 47, 48, 49, 50],\n",
              " [46, 11, 47, 48, 49, 50, 8],\n",
              " [51, 2],\n",
              " [51, 2, 3],\n",
              " [51, 2, 3, 52],\n",
              " [51, 2, 3, 52, 4],\n",
              " [51, 2, 3, 52, 4, 53],\n",
              " [51, 2, 3, 52, 4, 53, 6],\n",
              " [51, 2, 3, 52, 4, 53, 6, 10],\n",
              " [54, 11],\n",
              " [54, 11, 55],\n",
              " [54, 11, 55, 56],\n",
              " [54, 11, 55, 56, 3],\n",
              " [54, 11, 55, 56, 3, 57],\n",
              " [54, 11, 55, 56, 3, 57, 58],\n",
              " [54, 11, 55, 56, 3, 57, 58, 59],\n",
              " [54, 11, 55, 56, 3, 57, 58, 59, 60],\n",
              " [1, 61],\n",
              " [1, 61, 2],\n",
              " [1, 61, 2, 62],\n",
              " [1, 61, 2, 62, 4],\n",
              " [1, 61, 2, 62, 4, 63],\n",
              " [1, 61, 2, 62, 4, 63, 64],\n",
              " [65, 66],\n",
              " [65, 66, 67],\n",
              " [65, 66, 67, 68],\n",
              " [65, 66, 67, 68, 1],\n",
              " [65, 66, 67, 68, 1, 69],\n",
              " [70, 71],\n",
              " [70, 71, 72],\n",
              " [70, 71, 72, 12],\n",
              " [70, 71, 72, 12, 9],\n",
              " [70, 71, 72, 12, 9, 4],\n",
              " [70, 71, 72, 12, 9, 4, 73],\n",
              " [74, 2],\n",
              " [74, 2, 75],\n",
              " [74, 2, 75, 76],\n",
              " [74, 2, 75, 76, 77],\n",
              " [74, 2, 75, 76, 77, 78],\n",
              " [74, 2, 75, 76, 77, 78, 79],\n",
              " [13, 80],\n",
              " [13, 80, 81],\n",
              " [13, 80, 81, 82],\n",
              " [13, 80, 81, 82, 1],\n",
              " [13, 80, 81, 82, 1, 83],\n",
              " [13, 80, 81, 82, 1, 83, 5],\n",
              " [13, 80, 81, 82, 1, 83, 5, 84],\n",
              " [85, 14],\n",
              " [85, 14, 86],\n",
              " [85, 14, 86, 3],\n",
              " [85, 14, 86, 3, 87],\n",
              " [85, 14, 86, 3, 87, 88],\n",
              " [85, 14, 86, 3, 87, 88, 5],\n",
              " [85, 14, 86, 3, 87, 88, 5, 12],\n",
              " [85, 14, 86, 3, 87, 88, 5, 12, 89],\n",
              " [1, 90],\n",
              " [1, 90, 91],\n",
              " [1, 90, 91, 5],\n",
              " [1, 90, 91, 5, 1],\n",
              " [1, 90, 91, 5, 1, 92],\n",
              " [1, 90, 91, 5, 1, 92, 4],\n",
              " [1, 90, 91, 5, 1, 92, 4, 93],\n",
              " [1, 90, 91, 5, 1, 92, 4, 93, 94],\n",
              " [1, 90, 91, 5, 1, 92, 4, 93, 94, 1],\n",
              " [1, 90, 91, 5, 1, 92, 4, 93, 94, 1, 95],\n",
              " [13, 96],\n",
              " [13, 96, 3],\n",
              " [13, 96, 3, 97],\n",
              " [13, 96, 3, 97, 98],\n",
              " [13, 96, 3, 97, 98, 14],\n",
              " [13, 96, 3, 97, 98, 14, 99],\n",
              " [13, 96, 3, 97, 98, 14, 99, 100],\n",
              " [13, 96, 3, 97, 98, 14, 99, 100, 101],\n",
              " [102, 103],\n",
              " [102, 103, 104],\n",
              " [102, 103, 104, 2],\n",
              " [102, 103, 104, 2, 105],\n",
              " [102, 103, 104, 2, 105, 106],\n",
              " [107, 2],\n",
              " [107, 2, 108],\n",
              " [107, 2, 108, 109],\n",
              " [107, 2, 108, 109, 3],\n",
              " [107, 2, 108, 109, 3, 110],\n",
              " [107, 2, 108, 109, 3, 110, 111],\n",
              " [112, 113],\n",
              " [112, 113, 7],\n",
              " [112, 113, 7, 114],\n",
              " [112, 113, 7, 114, 115],\n",
              " [112, 113, 7, 114, 115, 116],\n",
              " [112, 113, 7, 114, 115, 116, 117],\n",
              " [112, 113, 7, 114, 115, 116, 117, 118]]"
            ]
          },
          "metadata": {},
          "execution_count": 21
        }
      ]
    },
    {
      "cell_type": "code",
      "source": [
        "max_len = max([len(x) for x in input_sequences])\n",
        "max_len"
      ],
      "metadata": {
        "colab": {
          "base_uri": "https://localhost:8080/"
        },
        "id": "mpWsoS8K_Jo4",
        "outputId": "befac8c4-b8ec-4d55-c4b2-604c6c31a9dd"
      },
      "execution_count": null,
      "outputs": [
        {
          "output_type": "execute_result",
          "data": {
            "text/plain": [
              "11"
            ]
          },
          "metadata": {},
          "execution_count": 22
        }
      ]
    },
    {
      "cell_type": "code",
      "source": [
        "from tensorflow.keras.preprocessing.sequence import pad_sequences\n",
        "padded_input_sequences = pad_sequences(input_sequences, maxlen=max_len, padding='pre')"
      ],
      "metadata": {
        "id": "AJnt-xv4_Vn1"
      },
      "execution_count": null,
      "outputs": []
    },
    {
      "cell_type": "code",
      "source": [
        "padded_input_sequences"
      ],
      "metadata": {
        "id": "Kqz7Bvfe_6Jx",
        "outputId": "31e9a1fc-f080-4696-f223-79a3c7e37869",
        "colab": {
          "base_uri": "https://localhost:8080/"
        }
      },
      "execution_count": null,
      "outputs": [
        {
          "output_type": "execute_result",
          "data": {
            "text/plain": [
              "array([[  0,   0,   0, ...,   0,   1,  15],\n",
              "       [  0,   0,   0, ...,   1,  15,  16],\n",
              "       [  0,   0,   0, ...,  15,  16,  17],\n",
              "       ...,\n",
              "       [  0,   0,   0, ..., 114, 115, 116],\n",
              "       [  0,   0,   0, ..., 115, 116, 117],\n",
              "       [  0,   0,   0, ..., 116, 117, 118]], dtype=int32)"
            ]
          },
          "metadata": {},
          "execution_count": 27
        }
      ]
    },
    {
      "cell_type": "code",
      "source": [
        "X = padded_input_sequences[:, :-1]\n",
        "y = padded_input_sequences[:, -1]\n",
        "X"
      ],
      "metadata": {
        "colab": {
          "base_uri": "https://localhost:8080/"
        },
        "id": "Z5ZbWEi7_nXe",
        "outputId": "faafcc8d-8ab4-42de-dd38-ba4ff0fcfe74"
      },
      "execution_count": null,
      "outputs": [
        {
          "output_type": "execute_result",
          "data": {
            "text/plain": [
              "array([[  0,   0,   0, ...,   0,   0,   1],\n",
              "       [  0,   0,   0, ...,   0,   1,  15],\n",
              "       [  0,   0,   0, ...,   1,  15,  16],\n",
              "       ...,\n",
              "       [  0,   0,   0, ...,   7, 114, 115],\n",
              "       [  0,   0,   0, ..., 114, 115, 116],\n",
              "       [  0,   0,   0, ..., 115, 116, 117]], dtype=int32)"
            ]
          },
          "metadata": {},
          "execution_count": 28
        }
      ]
    }
  ]
}